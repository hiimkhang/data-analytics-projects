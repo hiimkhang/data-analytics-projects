{
 "cells": [
  {
   "cell_type": "code",
   "execution_count": 83,
   "metadata": {},
   "outputs": [],
   "source": [
    "import pandas as pd\n",
    "import numpy as np\n",
    "from zipfile import ZipFile\n",
    "import re\n",
    "pd.options.display.max_columns = None\n",
    "pd.options.display.max_rows = 20"
   ]
  },
  {
   "cell_type": "code",
   "execution_count": 84,
   "metadata": {},
   "outputs": [
    {
     "name": "stdout",
     "output_type": "stream",
     "text": [
      "Traceback (most recent call last):\n",
      "  File \"/usr/bin/kaggle\", line 5, in <module>\n",
      "    from kaggle.cli import main\n",
      "ModuleNotFoundError: No module named 'kaggle'\n"
     ]
    }
   ],
   "source": [
    "!kaggle datasets download -d yagunnersya/fifa-21-messy-raw-dataset-for-cleaning-exploring"
   ]
  },
  {
   "cell_type": "code",
   "execution_count": 85,
   "metadata": {},
   "outputs": [],
   "source": [
    "zip_name = \"fifa-21-messy-raw-dataset-for-cleaning-exploring.zip\"\n",
    "\n",
    "with ZipFile(file=zip_name, mode='r') as file:\n",
    "    file.extractall()"
   ]
  },
  {
   "cell_type": "code",
   "execution_count": 86,
   "metadata": {},
   "outputs": [],
   "source": [
    "data_csv = \"fifa21 raw data v2.csv\"\n",
    "data = pd.read_csv(data_csv, engine='python')"
   ]
  },
  {
   "cell_type": "markdown",
   "metadata": {},
   "source": [
    "# Data Preprocessing"
   ]
  },
  {
   "cell_type": "code",
   "execution_count": 87,
   "metadata": {},
   "outputs": [
    {
     "name": "stdout",
     "output_type": "stream",
     "text": [
      "<class 'pandas.core.frame.DataFrame'>\n",
      "RangeIndex: 18979 entries, 0 to 18978\n",
      "Data columns (total 77 columns):\n",
      " #   Column            Non-Null Count  Dtype \n",
      "---  ------            --------------  ----- \n",
      " 0   ID                18979 non-null  int64 \n",
      " 1   Name              18979 non-null  object\n",
      " 2   LongName          18979 non-null  object\n",
      " 3   photoUrl          18979 non-null  object\n",
      " 4   playerUrl         18979 non-null  object\n",
      " 5   Nationality       18979 non-null  object\n",
      " 6   Age               18979 non-null  int64 \n",
      " 7   ↓OVA              18979 non-null  int64 \n",
      " 8   POT               18979 non-null  int64 \n",
      " 9   Club              18979 non-null  object\n",
      " 10  Contract          18979 non-null  object\n",
      " 11  Positions         18979 non-null  object\n",
      " 12  Height            18979 non-null  object\n",
      " 13  Weight            18979 non-null  object\n",
      " 14  Preferred Foot    18979 non-null  object\n",
      " 15  BOV               18979 non-null  int64 \n",
      " 16  Best Position     18979 non-null  object\n",
      " 17  Joined            18979 non-null  object\n",
      " 18  Loan Date End     1013 non-null   object\n",
      " 19  Value             18979 non-null  object\n",
      " 20  Wage              18979 non-null  object\n",
      " 21  Release Clause    18979 non-null  object\n",
      " 22  Attacking         18979 non-null  int64 \n",
      " 23  Crossing          18979 non-null  int64 \n",
      " 24  Finishing         18979 non-null  int64 \n",
      " 25  Heading Accuracy  18979 non-null  int64 \n",
      " 26  Short Passing     18979 non-null  int64 \n",
      " 27  Volleys           18979 non-null  int64 \n",
      " 28  Skill             18979 non-null  int64 \n",
      " 29  Dribbling         18979 non-null  int64 \n",
      " 30  Curve             18979 non-null  int64 \n",
      " 31  FK Accuracy       18979 non-null  int64 \n",
      " 32  Long Passing      18979 non-null  int64 \n",
      " 33  Ball Control      18979 non-null  int64 \n",
      " 34  Movement          18979 non-null  int64 \n",
      " 35  Acceleration      18979 non-null  int64 \n",
      " 36  Sprint Speed      18979 non-null  int64 \n",
      " 37  Agility           18979 non-null  int64 \n",
      " 38  Reactions         18979 non-null  int64 \n",
      " 39  Balance           18979 non-null  int64 \n",
      " 40  Power             18979 non-null  int64 \n",
      " 41  Shot Power        18979 non-null  int64 \n",
      " 42  Jumping           18979 non-null  int64 \n",
      " 43  Stamina           18979 non-null  int64 \n",
      " 44  Strength          18979 non-null  int64 \n",
      " 45  Long Shots        18979 non-null  int64 \n",
      " 46  Mentality         18979 non-null  int64 \n",
      " 47  Aggression        18979 non-null  int64 \n",
      " 48  Interceptions     18979 non-null  int64 \n",
      " 49  Positioning       18979 non-null  int64 \n",
      " 50  Vision            18979 non-null  int64 \n",
      " 51  Penalties         18979 non-null  int64 \n",
      " 52  Composure         18979 non-null  int64 \n",
      " 53  Defending         18979 non-null  int64 \n",
      " 54  Marking           18979 non-null  int64 \n",
      " 55  Standing Tackle   18979 non-null  int64 \n",
      " 56  Sliding Tackle    18979 non-null  int64 \n",
      " 57  Goalkeeping       18979 non-null  int64 \n",
      " 58  GK Diving         18979 non-null  int64 \n",
      " 59  GK Handling       18979 non-null  int64 \n",
      " 60  GK Kicking        18979 non-null  int64 \n",
      " 61  GK Positioning    18979 non-null  int64 \n",
      " 62  GK Reflexes       18979 non-null  int64 \n",
      " 63  Total Stats       18979 non-null  int64 \n",
      " 64  Base Stats        18979 non-null  int64 \n",
      " 65  W/F               18979 non-null  object\n",
      " 66  SM                18979 non-null  object\n",
      " 67  A/W               18979 non-null  object\n",
      " 68  D/W               18979 non-null  object\n",
      " 69  IR                18979 non-null  object\n",
      " 70  PAC               18979 non-null  int64 \n",
      " 71  SHO               18979 non-null  int64 \n",
      " 72  PAS               18979 non-null  int64 \n",
      " 73  DRI               18979 non-null  int64 \n",
      " 74  DEF               18979 non-null  int64 \n",
      " 75  PHY               18979 non-null  int64 \n",
      " 76  Hits              16384 non-null  object\n",
      "dtypes: int64(54), object(23)\n",
      "memory usage: 11.1+ MB\n"
     ]
    }
   ],
   "source": [
    "data.info()"
   ]
  },
  {
   "cell_type": "code",
   "execution_count": 88,
   "metadata": {},
   "outputs": [
    {
     "data": {
      "text/html": [
       "<div>\n",
       "<style scoped>\n",
       "    .dataframe tbody tr th:only-of-type {\n",
       "        vertical-align: middle;\n",
       "    }\n",
       "\n",
       "    .dataframe tbody tr th {\n",
       "        vertical-align: top;\n",
       "    }\n",
       "\n",
       "    .dataframe thead th {\n",
       "        text-align: right;\n",
       "    }\n",
       "</style>\n",
       "<table border=\"1\" class=\"dataframe\">\n",
       "  <thead>\n",
       "    <tr style=\"text-align: right;\">\n",
       "      <th></th>\n",
       "      <th>Name</th>\n",
       "      <th>LongName</th>\n",
       "      <th>photoUrl</th>\n",
       "      <th>playerUrl</th>\n",
       "      <th>Nationality</th>\n",
       "      <th>Club</th>\n",
       "      <th>Contract</th>\n",
       "      <th>Positions</th>\n",
       "      <th>Height</th>\n",
       "      <th>Weight</th>\n",
       "      <th>Preferred Foot</th>\n",
       "      <th>Best Position</th>\n",
       "      <th>Joined</th>\n",
       "      <th>Loan Date End</th>\n",
       "      <th>Value</th>\n",
       "      <th>Wage</th>\n",
       "      <th>Release Clause</th>\n",
       "      <th>W/F</th>\n",
       "      <th>SM</th>\n",
       "      <th>A/W</th>\n",
       "      <th>D/W</th>\n",
       "      <th>IR</th>\n",
       "      <th>Hits</th>\n",
       "    </tr>\n",
       "  </thead>\n",
       "  <tbody>\n",
       "    <tr>\n",
       "      <th>count</th>\n",
       "      <td>18979</td>\n",
       "      <td>18979</td>\n",
       "      <td>18979</td>\n",
       "      <td>18979</td>\n",
       "      <td>18979</td>\n",
       "      <td>18979</td>\n",
       "      <td>18979</td>\n",
       "      <td>18979</td>\n",
       "      <td>18979</td>\n",
       "      <td>18979</td>\n",
       "      <td>18979</td>\n",
       "      <td>18979</td>\n",
       "      <td>18979</td>\n",
       "      <td>1013</td>\n",
       "      <td>18979</td>\n",
       "      <td>18979</td>\n",
       "      <td>18979</td>\n",
       "      <td>18979</td>\n",
       "      <td>18979</td>\n",
       "      <td>18979</td>\n",
       "      <td>18979</td>\n",
       "      <td>18979</td>\n",
       "      <td>16384</td>\n",
       "    </tr>\n",
       "    <tr>\n",
       "      <th>unique</th>\n",
       "      <td>17920</td>\n",
       "      <td>18852</td>\n",
       "      <td>18979</td>\n",
       "      <td>18979</td>\n",
       "      <td>164</td>\n",
       "      <td>682</td>\n",
       "      <td>131</td>\n",
       "      <td>640</td>\n",
       "      <td>62</td>\n",
       "      <td>79</td>\n",
       "      <td>2</td>\n",
       "      <td>15</td>\n",
       "      <td>1869</td>\n",
       "      <td>24</td>\n",
       "      <td>255</td>\n",
       "      <td>134</td>\n",
       "      <td>1216</td>\n",
       "      <td>5</td>\n",
       "      <td>5</td>\n",
       "      <td>3</td>\n",
       "      <td>3</td>\n",
       "      <td>5</td>\n",
       "      <td>439</td>\n",
       "    </tr>\n",
       "    <tr>\n",
       "      <th>top</th>\n",
       "      <td>J. Rodríguez</td>\n",
       "      <td>Danny Rose</td>\n",
       "      <td>https://cdn.sofifa.com/players/158/023/21_60.png</td>\n",
       "      <td>http://sofifa.com/player/158023/lionel-messi/2...</td>\n",
       "      <td>England</td>\n",
       "      <td>No Club</td>\n",
       "      <td>2019 ~ 2021</td>\n",
       "      <td>CB</td>\n",
       "      <td>180cm</td>\n",
       "      <td>70kg</td>\n",
       "      <td>Right</td>\n",
       "      <td>CB</td>\n",
       "      <td>Jul 1, 2019</td>\n",
       "      <td>Jun 30, 2021</td>\n",
       "      <td>€1.2M</td>\n",
       "      <td>€2K</td>\n",
       "      <td>€0</td>\n",
       "      <td>3 ★</td>\n",
       "      <td>2★</td>\n",
       "      <td>Medium</td>\n",
       "      <td>Medium</td>\n",
       "      <td>1 ★</td>\n",
       "      <td>1</td>\n",
       "    </tr>\n",
       "    <tr>\n",
       "      <th>freq</th>\n",
       "      <td>13</td>\n",
       "      <td>3</td>\n",
       "      <td>1</td>\n",
       "      <td>1</td>\n",
       "      <td>1705</td>\n",
       "      <td>237</td>\n",
       "      <td>1706</td>\n",
       "      <td>2441</td>\n",
       "      <td>1474</td>\n",
       "      <td>1495</td>\n",
       "      <td>14445</td>\n",
       "      <td>3686</td>\n",
       "      <td>1344</td>\n",
       "      <td>770</td>\n",
       "      <td>582</td>\n",
       "      <td>2899</td>\n",
       "      <td>1261</td>\n",
       "      <td>11695</td>\n",
       "      <td>9142</td>\n",
       "      <td>12701</td>\n",
       "      <td>13956</td>\n",
       "      <td>17629</td>\n",
       "      <td>2337</td>\n",
       "    </tr>\n",
       "  </tbody>\n",
       "</table>\n",
       "</div>"
      ],
      "text/plain": [
       "                Name    LongName  \\\n",
       "count          18979       18979   \n",
       "unique         17920       18852   \n",
       "top     J. Rodríguez  Danny Rose   \n",
       "freq              13           3   \n",
       "\n",
       "                                                photoUrl  \\\n",
       "count                                              18979   \n",
       "unique                                             18979   \n",
       "top     https://cdn.sofifa.com/players/158/023/21_60.png   \n",
       "freq                                                   1   \n",
       "\n",
       "                                                playerUrl Nationality  \\\n",
       "count                                               18979       18979   \n",
       "unique                                              18979         164   \n",
       "top     http://sofifa.com/player/158023/lionel-messi/2...     England   \n",
       "freq                                                    1        1705   \n",
       "\n",
       "           Club     Contract Positions Height Weight Preferred Foot  \\\n",
       "count     18979        18979     18979  18979  18979          18979   \n",
       "unique      682          131       640     62     79              2   \n",
       "top     No Club  2019 ~ 2021        CB  180cm   70kg          Right   \n",
       "freq        237         1706      2441   1474   1495          14445   \n",
       "\n",
       "       Best Position       Joined Loan Date End  Value   Wage Release Clause  \\\n",
       "count          18979        18979          1013  18979  18979          18979   \n",
       "unique            15         1869            24    255    134           1216   \n",
       "top               CB  Jul 1, 2019  Jun 30, 2021  €1.2M    €2K             €0   \n",
       "freq            3686         1344           770    582   2899           1261   \n",
       "\n",
       "          W/F     SM     A/W     D/W     IR   Hits  \n",
       "count   18979  18979   18979   18979  18979  16384  \n",
       "unique      5      5       3       3      5    439  \n",
       "top       3 ★     2★  Medium  Medium    1 ★      1  \n",
       "freq    11695   9142   12701   13956  17629   2337  "
      ]
     },
     "execution_count": 88,
     "metadata": {},
     "output_type": "execute_result"
    }
   ],
   "source": [
    "data.describe(include=\"object\")"
   ]
  },
  {
   "cell_type": "markdown",
   "metadata": {},
   "source": [
    "## Convert datetime column \"Joined\""
   ]
  },
  {
   "cell_type": "code",
   "execution_count": 89,
   "metadata": {},
   "outputs": [
    {
     "data": {
      "text/plain": [
       "Jul 1, 2019     1344\n",
       "Jul 1, 2018      865\n",
       "Jan 1, 2019      682\n",
       "Jul 1, 2017      520\n",
       "Jul 1, 2020      435\n",
       "                ... \n",
       "May 17, 2018       1\n",
       "Jun 1, 2005        1\n",
       "Mar 29, 2015       1\n",
       "Feb 19, 2018       1\n",
       "Mar 6, 2018        1\n",
       "Name: Joined, Length: 1869, dtype: int64"
      ]
     },
     "execution_count": 89,
     "metadata": {},
     "output_type": "execute_result"
    }
   ],
   "source": [
    "data.Joined.value_counts()"
   ]
  },
  {
   "cell_type": "code",
   "execution_count": 90,
   "metadata": {},
   "outputs": [],
   "source": [
    "month_dict = {\n",
    "        'Jan': 1,\n",
    "        'Feb': 2,\n",
    "        'Mar': 3,\n",
    "        'Apr': 4,\n",
    "        'May': 5,\n",
    "        'Jun': 6,\n",
    "        'Jul': 7,\n",
    "        'Aug': 8,\n",
    "        'Sep': 9,\n",
    "        'Oct': 10,\n",
    "        'Nov': 11,\n",
    "        'Dec': 12,\n",
    "    }\n",
    "\n",
    "def convertDay(date: str):\n",
    "    month, day, year = re.findall(pattern=r\"\\w+\", string=date)\n",
    "    month = month_dict.get(month)\n",
    "    if month/10 < 1: month = f\"0{month}\"\n",
    "    if len(day) < 2: day = f\"0{day}\"\n",
    "    return f\"{year}-{month}-{day}\"\n",
    "\n",
    "data.Joined = data.Joined.apply(convertDay)"
   ]
  },
  {
   "cell_type": "code",
   "execution_count": 91,
   "metadata": {},
   "outputs": [
    {
     "data": {
      "text/plain": [
       "2019-07-01    1344\n",
       "2018-07-01     865\n",
       "2019-01-01     682\n",
       "2017-07-01     520\n",
       "2020-07-01     435\n",
       "              ... \n",
       "2018-05-17       1\n",
       "2005-06-01       1\n",
       "2015-03-29       1\n",
       "2018-02-19       1\n",
       "2018-03-06       1\n",
       "Name: Joined, Length: 1869, dtype: int64"
      ]
     },
     "execution_count": 91,
     "metadata": {},
     "output_type": "execute_result"
    }
   ],
   "source": [
    "data.Joined.value_counts()"
   ]
  },
  {
   "cell_type": "markdown",
   "metadata": {},
   "source": [
    "## Converting Height"
   ]
  },
  {
   "cell_type": "code",
   "execution_count": 92,
   "metadata": {},
   "outputs": [
    {
     "data": {
      "text/plain": [
       "180cm    1474\n",
       "178cm    1250\n",
       "185cm    1182\n",
       "183cm    1148\n",
       "175cm    1091\n",
       "         ... \n",
       "6'5\"        1\n",
       "157cm       1\n",
       "5'4\"        1\n",
       "5'6\"        1\n",
       "155cm       1\n",
       "Name: Height, Length: 62, dtype: int64"
      ]
     },
     "execution_count": 92,
     "metadata": {},
     "output_type": "execute_result"
    }
   ],
   "source": [
    "# Overview of Height \n",
    "data.Height.value_counts()"
   ]
  },
  {
   "cell_type": "code",
   "execution_count": 93,
   "metadata": {},
   "outputs": [
    {
     "name": "stdout",
     "output_type": "stream",
     "text": [
      "There are 40 rows not containing \"cm\".\n"
     ]
    },
    {
     "data": {
      "text/plain": [
       "6'0\"     8\n",
       "5'11\"    6\n",
       "6'2\"     4\n",
       "6'3\"     4\n",
       "5'10\"    4\n",
       "6'1\"     3\n",
       "5'9\"     3\n",
       "5'7\"     3\n",
       "6'4\"     2\n",
       "6'5\"     1\n",
       "5'6\"     1\n",
       "5'4\"     1\n",
       "Name: Height, dtype: int64"
      ]
     },
     "execution_count": 93,
     "metadata": {},
     "output_type": "execute_result"
    }
   ],
   "source": [
    "# Rows not containing \"cm\" \n",
    "print(\"There are {num} rows not containing \\\"cm\\\".\".format(num=data.Height[~data.Height.str.contains(r\"cm\")].shape[0]))\n",
    "data.Height[~data.Height.str.contains(r\"cm\")].value_counts()"
   ]
  },
  {
   "cell_type": "code",
   "execution_count": 94,
   "metadata": {},
   "outputs": [
    {
     "name": "stderr",
     "output_type": "stream",
     "text": [
      "/tmp/ipykernel_138757/1498851119.py:6: SettingWithCopyWarning: \n",
      "A value is trying to be set on a copy of a slice from a DataFrame\n",
      "\n",
      "See the caveats in the documentation: https://pandas.pydata.org/pandas-docs/stable/user_guide/indexing.html#returning-a-view-versus-a-copy\n",
      "  data.Height[data.Height.str.contains(r\"'\")] = data.Height[data.Height.str.contains(r\"'\")].apply(convertHeight)\n"
     ]
    }
   ],
   "source": [
    "# Convert height in feet to cm\n",
    "def convertHeight(height: str):\n",
    "    feet, inch = pd.to_numeric(re.findall(pattern='\\d+', string=height))\n",
    "    return str(round(feet*30.48 + inch*2.54))\n",
    "\n",
    "data.Height[data.Height.str.contains(r\"'\")] = data.Height[data.Height.str.contains(r\"'\")].apply(convertHeight)"
   ]
  },
  {
   "cell_type": "code",
   "execution_count": 95,
   "metadata": {},
   "outputs": [
    {
     "data": {
      "text/plain": [
       "0        170\n",
       "1        187\n",
       "2        188\n",
       "3        181\n",
       "4        175\n",
       "        ... \n",
       "18974    178\n",
       "18975    175\n",
       "18976    179\n",
       "18977    175\n",
       "18978    188\n",
       "Name: Height, Length: 18979, dtype: int64"
      ]
     },
     "execution_count": 95,
     "metadata": {},
     "output_type": "execute_result"
    }
   ],
   "source": [
    "# Remove \"cm\" and convert height to numeric\n",
    "data.Height = data.Height.str.replace('cm', '')\n",
    "data.Height = pd.to_numeric(data.Height)\n",
    "data.Height"
   ]
  },
  {
   "cell_type": "markdown",
   "metadata": {},
   "source": [
    "## Converting Weight"
   ]
  },
  {
   "cell_type": "code",
   "execution_count": 96,
   "metadata": {},
   "outputs": [
    {
     "data": {
      "text/plain": [
       "70kg      1495\n",
       "75kg      1457\n",
       "80kg      1108\n",
       "72kg      1022\n",
       "78kg       991\n",
       "          ... \n",
       "190lbs       1\n",
       "130lbs       1\n",
       "146lbs       1\n",
       "203lbs       1\n",
       "157lbs       1\n",
       "Name: Weight, Length: 79, dtype: int64"
      ]
     },
     "execution_count": 96,
     "metadata": {},
     "output_type": "execute_result"
    }
   ],
   "source": [
    "data.Weight.value_counts()"
   ]
  },
  {
   "cell_type": "code",
   "execution_count": 97,
   "metadata": {},
   "outputs": [
    {
     "name": "stdout",
     "output_type": "stream",
     "text": [
      "There are 40 rows not containing \"cm\".\n"
     ]
    },
    {
     "data": {
      "text/plain": [
       "172lbs    4\n",
       "170lbs    4\n",
       "183lbs    3\n",
       "179lbs    3\n",
       "165lbs    2\n",
       "         ..\n",
       "146lbs    1\n",
       "203lbs    1\n",
       "185lbs    1\n",
       "176lbs    1\n",
       "163lbs    1\n",
       "Name: Weight, Length: 23, dtype: int64"
      ]
     },
     "execution_count": 97,
     "metadata": {},
     "output_type": "execute_result"
    }
   ],
   "source": [
    "# Rows not containing \"kg\" \n",
    "print(\"There are {num} rows not containing \\\"cm\\\".\".format(num=data.Weight[~data.Weight.str.contains(r\"kg\")].shape[0]))\n",
    "data.Weight[~data.Weight.str.contains(r\"kg\")].value_counts()"
   ]
  },
  {
   "cell_type": "code",
   "execution_count": 98,
   "metadata": {},
   "outputs": [
    {
     "name": "stderr",
     "output_type": "stream",
     "text": [
      "/tmp/ipykernel_138757/2083810685.py:6: SettingWithCopyWarning: \n",
      "A value is trying to be set on a copy of a slice from a DataFrame\n",
      "\n",
      "See the caveats in the documentation: https://pandas.pydata.org/pandas-docs/stable/user_guide/indexing.html#returning-a-view-versus-a-copy\n",
      "  data.Weight[data.Weight.str.contains(r\"lbs\")] = data.Weight[data.Weight.str.contains(r\"lbs\")].apply(convertWeight)\n"
     ]
    }
   ],
   "source": [
    "# Convert weight in lbs to kg\n",
    "def convertWeight(weight: str):\n",
    "    lbs = pd.to_numeric(re.findall(pattern='\\d+', string=weight))[0]\n",
    "    return str(round(lbs*0.453592))\n",
    "\n",
    "data.Weight[data.Weight.str.contains(r\"lbs\")] = data.Weight[data.Weight.str.contains(r\"lbs\")].apply(convertWeight)"
   ]
  },
  {
   "cell_type": "code",
   "execution_count": 99,
   "metadata": {},
   "outputs": [
    {
     "data": {
      "text/plain": [
       "0        72\n",
       "1        83\n",
       "2        87\n",
       "3        70\n",
       "4        68\n",
       "         ..\n",
       "18974    66\n",
       "18975    65\n",
       "18976    74\n",
       "18977    69\n",
       "18978    75\n",
       "Name: Weight, Length: 18979, dtype: int64"
      ]
     },
     "execution_count": 99,
     "metadata": {},
     "output_type": "execute_result"
    }
   ],
   "source": [
    "# Remove \"kg\" and convert weight to numeric\n",
    "data.Weight = data.Weight.str.replace('kg', '')\n",
    "data.Weight = pd.to_numeric(data.Weight)\n",
    "data.Weight"
   ]
  },
  {
   "cell_type": "markdown",
   "metadata": {},
   "source": [
    "## Remove redundant characters in Club"
   ]
  },
  {
   "cell_type": "code",
   "execution_count": 100,
   "metadata": {},
   "outputs": [
    {
     "data": {
      "text/plain": [
       "No Club                           237\n",
       "\\n\\n\\n\\nFC Barcelona               33\n",
       "\\n\\n\\n\\nBurnley                    33\n",
       "\\n\\n\\n\\nRC Celta                   33\n",
       "\\n\\n\\n\\nTorino                     33\n",
       "                                 ... \n",
       "\\n\\n\\n\\nMelbourne Victory          18\n",
       "\\n\\n\\n\\nBrisbane Roar              18\n",
       "\\n\\n\\n\\nAdelaide United            18\n",
       "\\n\\n\\n\\nPerth Glory                18\n",
       "\\n\\n\\n\\nCentral Coast Mariners     18\n",
       "Name: Club, Length: 682, dtype: int64"
      ]
     },
     "execution_count": 100,
     "metadata": {},
     "output_type": "execute_result"
    }
   ],
   "source": [
    "data.Club.value_counts()"
   ]
  },
  {
   "cell_type": "code",
   "execution_count": 101,
   "metadata": {},
   "outputs": [],
   "source": [
    "# Remove \"\\n\"\n",
    "data.Club = data.Club.str.replace('\\n\\n\\n\\n', '')"
   ]
  },
  {
   "cell_type": "code",
   "execution_count": 102,
   "metadata": {},
   "outputs": [
    {
     "data": {
      "text/plain": [
       "1. FSV Mainz 05          32\n",
       "1. FC Köln               31\n",
       "1. FC Nürnberg           30\n",
       "1. FC Heidenheim 1846    30\n",
       "1. FC Union Berlin       28\n",
       "1. FC Kaiserslautern     28\n",
       "1. FC Magdeburg          28\n",
       "1. FC Saarbrücken        27\n",
       "Name: Club, dtype: int64"
      ]
     },
     "execution_count": 102,
     "metadata": {},
     "output_type": "execute_result"
    }
   ],
   "source": [
    "# Records that start with number, which is abnormal\n",
    "data.Club[data.Club.str.contains(r\"^\\d+\")].value_counts()"
   ]
  },
  {
   "cell_type": "code",
   "execution_count": 103,
   "metadata": {},
   "outputs": [],
   "source": [
    "# Remove \"1. \" from those\n",
    "data.Club = data.Club.apply(\n",
    "    lambda x: pd.Series(re.sub(pattern=r\"^\\d+\\. \", string=x, repl=\"\")))"
   ]
  },
  {
   "cell_type": "markdown",
   "metadata": {},
   "source": [
    "## Reformat Contract\n",
    "- Split \"On Loan\" to another column.\n",
    "- join \"Date End Loan\" to Contract records having On Loan = 1."
   ]
  },
  {
   "cell_type": "code",
   "execution_count": 104,
   "metadata": {},
   "outputs": [
    {
     "data": {
      "text/plain": [
       "2019 ~ 2021            1706\n",
       "2020 ~ 2022            1445\n",
       "2020 ~ 2021            1440\n",
       "2019 ~ 2022            1236\n",
       "2018 ~ 2021            1163\n",
       "                       ... \n",
       "Jul 5, 2021 On Loan       1\n",
       "2006 ~ 2024               1\n",
       "2020 ~ 2026               1\n",
       "2010 ~ 2025               1\n",
       "Aug 1, 2021 On Loan       1\n",
       "Name: Contract, Length: 131, dtype: int64"
      ]
     },
     "execution_count": 104,
     "metadata": {},
     "output_type": "execute_result"
    }
   ],
   "source": [
    "data.Contract.value_counts()"
   ]
  },
  {
   "cell_type": "code",
   "execution_count": 105,
   "metadata": {},
   "outputs": [
    {
     "data": {
      "text/plain": [
       "Jun 30, 2021 On Loan    770\n",
       "Free                    237\n",
       "Dec 31, 2020 On Loan    100\n",
       "May 31, 2021 On Loan     30\n",
       "Dec 31, 2021 On Loan     22\n",
       "                       ... \n",
       "Jan 17, 2021 On Loan      1\n",
       "Jul 1, 2021 On Loan       1\n",
       "Jul 5, 2021 On Loan       1\n",
       "Jan 30, 2021 On Loan      1\n",
       "Aug 1, 2021 On Loan       1\n",
       "Name: Contract, Length: 25, dtype: int64"
      ]
     },
     "execution_count": 105,
     "metadata": {},
     "output_type": "execute_result"
    }
   ],
   "source": [
    "# Rows with different patterns\n",
    "data.Contract[~data.Contract.str.contains(r\"\\d ~ \\d\")].value_counts()"
   ]
  },
  {
   "cell_type": "code",
   "execution_count": 106,
   "metadata": {},
   "outputs": [],
   "source": [
    "# Split \"On Loan\" as 1 for rows containing \"On Loan\" \n",
    "data['On Loan'] = data.Contract.apply(\n",
    "    lambda x: 1 if str(x).find(\"On Loan\") != -1 else 0\n",
    ")"
   ]
  },
  {
   "cell_type": "code",
   "execution_count": 107,
   "metadata": {},
   "outputs": [
    {
     "data": {
      "text/plain": [
       "0    17966\n",
       "1     1013\n",
       "Name: On Loan, dtype: int64"
      ]
     },
     "execution_count": 107,
     "metadata": {},
     "output_type": "execute_result"
    }
   ],
   "source": [
    "data['On Loan'].value_counts()"
   ]
  },
  {
   "cell_type": "code",
   "execution_count": 108,
   "metadata": {},
   "outputs": [
    {
     "data": {
      "text/plain": [
       "Jun 30, 2021    770\n",
       "Dec 31, 2020    100\n",
       "May 31, 2021     30\n",
       "Dec 31, 2021     22\n",
       "Jan 31, 2021     18\n",
       "               ... \n",
       "Jun 30, 2023      1\n",
       "Jul 31, 2021      1\n",
       "Dec 30, 2020      1\n",
       "Jan 30, 2021      1\n",
       "Aug 1, 2021       1\n",
       "Name: Loan Date End, Length: 24, dtype: int64"
      ]
     },
     "execution_count": 108,
     "metadata": {},
     "output_type": "execute_result"
    }
   ],
   "source": [
    "data['Loan Date End'].value_counts()"
   ]
  },
  {
   "cell_type": "code",
   "execution_count": 109,
   "metadata": {},
   "outputs": [],
   "source": [
    "# Join year of \"Loan Date End\" to \"Contract\", forming a consistent pattern of Year - Year.\n",
    "data.Contract = data.apply(\n",
    "    lambda row: \n",
    "        \"{start} - {end}\".format(\n",
    "            start=re.findall(pattern=r'\\w+', string=row['Contract'])[2],\n",
    "            end=re.findall(pattern=r'\\w+', string=row['Loan Date End'])[2])\n",
    "        if f\"On Loan\" in str(row['Contract']) else row['Contract'],\n",
    "        axis =1\n",
    ")\n",
    "\n",
    "data.Contract = data.Contract.str.replace('~', '-')"
   ]
  },
  {
   "cell_type": "code",
   "execution_count": 110,
   "metadata": {},
   "outputs": [
    {
     "data": {
      "text/plain": [
       "2019 - 2021    1706\n",
       "2020 - 2022    1445\n",
       "2020 - 2021    1440\n",
       "2019 - 2022    1236\n",
       "2018 - 2021    1163\n",
       "               ... \n",
       "2012 - 2028       1\n",
       "2002 - 2020       1\n",
       "2019 - 2026       1\n",
       "2006 - 2024       1\n",
       "2009 - 2025       1\n",
       "Name: Contract, Length: 110, dtype: int64"
      ]
     },
     "execution_count": 110,
     "metadata": {},
     "output_type": "execute_result"
    }
   ],
   "source": [
    "data.Contract.value_counts()"
   ]
  },
  {
   "cell_type": "markdown",
   "metadata": {},
   "source": [
    "## Convert currency columns (Value, Wage, Release Cause)"
   ]
  },
  {
   "cell_type": "code",
   "execution_count": 111,
   "metadata": {},
   "outputs": [
    {
     "data": {
      "text/plain": [
       "0        €103.5M\n",
       "1           €63M\n",
       "2          €120M\n",
       "3          €129M\n",
       "4          €132M\n",
       "          ...   \n",
       "18974      €100K\n",
       "18975      €130K\n",
       "18976      €120K\n",
       "18977      €100K\n",
       "18978      €100K\n",
       "Name: Value, Length: 18979, dtype: object"
      ]
     },
     "execution_count": 111,
     "metadata": {},
     "output_type": "execute_result"
    }
   ],
   "source": [
    "data.Value"
   ]
  },
  {
   "cell_type": "code",
   "execution_count": 112,
   "metadata": {},
   "outputs": [],
   "source": [
    "def convertMoney(money: str):\n",
    "    value = pd.to_numeric(re.findall(pattern=r\"\\d+\\.?\\d+|\\d\", string=money))[0]\n",
    "    if value == np.nan: value = 0\n",
    "    if \"M\" in money:\n",
    "        value *= 1000000\n",
    "    elif \"K\" in money:\n",
    "        value *= 1000\n",
    "    return str(int(value))\n",
    "    \n",
    "\n",
    "data.Value = pd.to_numeric(data.Value.apply(convertMoney))\n",
    "data.Wage = pd.to_numeric(data.Wage.apply(convertMoney))\n",
    "data['Release Clause'] = pd.to_numeric(data['Release Clause'].apply(convertMoney))\n",
    "    "
   ]
  },
  {
   "cell_type": "code",
   "execution_count": 113,
   "metadata": {},
   "outputs": [
    {
     "data": {
      "text/plain": [
       "0        103500000\n",
       "1         63000000\n",
       "2        120000000\n",
       "3        129000000\n",
       "4        132000000\n",
       "           ...    \n",
       "18974       100000\n",
       "18975       130000\n",
       "18976       120000\n",
       "18977       100000\n",
       "18978       100000\n",
       "Name: Value, Length: 18979, dtype: int64"
      ]
     },
     "execution_count": 113,
     "metadata": {},
     "output_type": "execute_result"
    }
   ],
   "source": [
    "data.Value"
   ]
  },
  {
   "cell_type": "markdown",
   "metadata": {},
   "source": [
    "## Remove special character \n",
    "## Representing skill-based features (W/F, SM, IR)"
   ]
  },
  {
   "cell_type": "code",
   "execution_count": 114,
   "metadata": {},
   "outputs": [
    {
     "data": {
      "text/plain": [
       "0        4 ★\n",
       "1        4 ★\n",
       "2        3 ★\n",
       "3        5 ★\n",
       "4        5 ★\n",
       "        ... \n",
       "18974    2 ★\n",
       "18975    2 ★\n",
       "18976    2 ★\n",
       "18977    3 ★\n",
       "18978    3 ★\n",
       "Name: W/F, Length: 18979, dtype: object"
      ]
     },
     "execution_count": 114,
     "metadata": {},
     "output_type": "execute_result"
    }
   ],
   "source": [
    "data['W/F']"
   ]
  },
  {
   "cell_type": "code",
   "execution_count": 115,
   "metadata": {},
   "outputs": [],
   "source": [
    "data['W/F'] = data['W/F'].apply(lambda x: re.sub(pattern=\"[^\\d]\", repl=\"\", string=x))\n",
    "data['SM'] = data['SM'].apply(lambda x: re.sub(pattern=\"[^\\d]\", repl=\"\", string=x))\n",
    "data['IR'] = data['IR'].apply(lambda x: re.sub(pattern=\"[^\\d]\", repl=\"\", string=x))\n"
   ]
  },
  {
   "cell_type": "markdown",
   "metadata": {},
   "source": [
    "## Reorder values in \"Position\""
   ]
  },
  {
   "cell_type": "code",
   "execution_count": 116,
   "metadata": {},
   "outputs": [
    {
     "name": "stdout",
     "output_type": "stream",
     "text": [
      "There are 15 different positions\n",
      "{'LB', 'ST', 'CM', 'CDM', 'LWB', 'RW', 'CAM', 'GK', 'CF', 'RB', 'CB', 'LW', 'LM', 'RM', 'RWB'}\n"
     ]
    }
   ],
   "source": [
    "positions = set()\n",
    "\n",
    "all_pos = data.Positions.unique()\n",
    "for value in all_pos:\n",
    "    pos = re.findall(pattern=r\"\\w+\", string=value)\n",
    "    positions.update(pos)\n",
    "\n",
    "print(f\"There are {len(positions)} different positions\")\n",
    "print(positions)\n",
    "    "
   ]
  },
  {
   "cell_type": "markdown",
   "metadata": {},
   "source": [
    "Due to a large number of possible positions (15), splitting them into 15 different columns is not a good idea. I would just sort them in alphabetical order, each position is seperated with a space."
   ]
  },
  {
   "cell_type": "code",
   "execution_count": 117,
   "metadata": {},
   "outputs": [],
   "source": [
    "def reorderPositions(positions: str):\n",
    "    splitted = re.findall(pattern=r\"\\w+\", string=positions)\n",
    "    splitted.sort()\n",
    "    res = \" \".join(splitted)\n",
    "    return res\n",
    "\n",
    "data.Positions = data.Positions.apply(reorderPositions)"
   ]
  },
  {
   "cell_type": "code",
   "execution_count": 125,
   "metadata": {},
   "outputs": [
    {
     "data": {
      "text/html": [
       "<div>\n",
       "<style scoped>\n",
       "    .dataframe tbody tr th:only-of-type {\n",
       "        vertical-align: middle;\n",
       "    }\n",
       "\n",
       "    .dataframe tbody tr th {\n",
       "        vertical-align: top;\n",
       "    }\n",
       "\n",
       "    .dataframe thead th {\n",
       "        text-align: right;\n",
       "    }\n",
       "</style>\n",
       "<table border=\"1\" class=\"dataframe\">\n",
       "  <thead>\n",
       "    <tr style=\"text-align: right;\">\n",
       "      <th></th>\n",
       "      <th>ID</th>\n",
       "      <th>Name</th>\n",
       "      <th>Nationality</th>\n",
       "      <th>Age</th>\n",
       "      <th>↓OVA</th>\n",
       "      <th>POT</th>\n",
       "      <th>Club</th>\n",
       "      <th>Contract</th>\n",
       "      <th>Positions</th>\n",
       "      <th>Height</th>\n",
       "      <th>Weight</th>\n",
       "      <th>Preferred Foot</th>\n",
       "      <th>BOV</th>\n",
       "      <th>Best Position</th>\n",
       "      <th>Joined</th>\n",
       "      <th>On Loan</th>\n",
       "      <th>Value</th>\n",
       "      <th>Wage</th>\n",
       "      <th>Attacking</th>\n",
       "      <th>Crossing</th>\n",
       "      <th>Finishing</th>\n",
       "      <th>Heading Accuracy</th>\n",
       "      <th>Short Passing</th>\n",
       "      <th>Volleys</th>\n",
       "      <th>Skill</th>\n",
       "      <th>Dribbling</th>\n",
       "      <th>Curve</th>\n",
       "      <th>FK Accuracy</th>\n",
       "      <th>Long Passing</th>\n",
       "      <th>Ball Control</th>\n",
       "      <th>Movement</th>\n",
       "      <th>Acceleration</th>\n",
       "      <th>Sprint Speed</th>\n",
       "      <th>Agility</th>\n",
       "      <th>Reactions</th>\n",
       "      <th>Balance</th>\n",
       "      <th>Power</th>\n",
       "      <th>Shot Power</th>\n",
       "      <th>Jumping</th>\n",
       "      <th>Stamina</th>\n",
       "      <th>Strength</th>\n",
       "      <th>Long Shots</th>\n",
       "      <th>Mentality</th>\n",
       "      <th>Aggression</th>\n",
       "      <th>Interceptions</th>\n",
       "      <th>Positioning</th>\n",
       "      <th>Vision</th>\n",
       "      <th>Penalties</th>\n",
       "      <th>Composure</th>\n",
       "      <th>Defending</th>\n",
       "      <th>Marking</th>\n",
       "      <th>Standing Tackle</th>\n",
       "      <th>Sliding Tackle</th>\n",
       "      <th>Goalkeeping</th>\n",
       "      <th>GK Diving</th>\n",
       "      <th>GK Handling</th>\n",
       "      <th>GK Kicking</th>\n",
       "      <th>GK Positioning</th>\n",
       "      <th>GK Reflexes</th>\n",
       "      <th>Total Stats</th>\n",
       "      <th>Base Stats</th>\n",
       "      <th>W/F</th>\n",
       "      <th>SM</th>\n",
       "      <th>A/W</th>\n",
       "      <th>D/W</th>\n",
       "      <th>IR</th>\n",
       "      <th>PAC</th>\n",
       "      <th>SHO</th>\n",
       "      <th>PAS</th>\n",
       "      <th>DRI</th>\n",
       "      <th>DEF</th>\n",
       "      <th>PHY</th>\n",
       "      <th>Hits</th>\n",
       "    </tr>\n",
       "  </thead>\n",
       "  <tbody>\n",
       "    <tr>\n",
       "      <th>0</th>\n",
       "      <td>158023</td>\n",
       "      <td>Lionel Messi</td>\n",
       "      <td>Argentina</td>\n",
       "      <td>33</td>\n",
       "      <td>93</td>\n",
       "      <td>93</td>\n",
       "      <td>FC Barcelona</td>\n",
       "      <td>2004 - 2021</td>\n",
       "      <td>CF RW ST</td>\n",
       "      <td>170</td>\n",
       "      <td>72</td>\n",
       "      <td>Left</td>\n",
       "      <td>93</td>\n",
       "      <td>RW</td>\n",
       "      <td>2004-07-01</td>\n",
       "      <td>0</td>\n",
       "      <td>103500000</td>\n",
       "      <td>560000</td>\n",
       "      <td>429</td>\n",
       "      <td>85</td>\n",
       "      <td>95</td>\n",
       "      <td>70</td>\n",
       "      <td>91</td>\n",
       "      <td>88</td>\n",
       "      <td>470</td>\n",
       "      <td>96</td>\n",
       "      <td>93</td>\n",
       "      <td>94</td>\n",
       "      <td>91</td>\n",
       "      <td>96</td>\n",
       "      <td>451</td>\n",
       "      <td>91</td>\n",
       "      <td>80</td>\n",
       "      <td>91</td>\n",
       "      <td>94</td>\n",
       "      <td>95</td>\n",
       "      <td>389</td>\n",
       "      <td>86</td>\n",
       "      <td>68</td>\n",
       "      <td>72</td>\n",
       "      <td>69</td>\n",
       "      <td>94</td>\n",
       "      <td>347</td>\n",
       "      <td>44</td>\n",
       "      <td>40</td>\n",
       "      <td>93</td>\n",
       "      <td>95</td>\n",
       "      <td>75</td>\n",
       "      <td>96</td>\n",
       "      <td>91</td>\n",
       "      <td>32</td>\n",
       "      <td>35</td>\n",
       "      <td>24</td>\n",
       "      <td>54</td>\n",
       "      <td>6</td>\n",
       "      <td>11</td>\n",
       "      <td>15</td>\n",
       "      <td>14</td>\n",
       "      <td>8</td>\n",
       "      <td>2231</td>\n",
       "      <td>466</td>\n",
       "      <td>4</td>\n",
       "      <td>4</td>\n",
       "      <td>Medium</td>\n",
       "      <td>Low</td>\n",
       "      <td>5</td>\n",
       "      <td>85</td>\n",
       "      <td>92</td>\n",
       "      <td>91</td>\n",
       "      <td>95</td>\n",
       "      <td>38</td>\n",
       "      <td>65</td>\n",
       "      <td>771</td>\n",
       "    </tr>\n",
       "    <tr>\n",
       "      <th>1</th>\n",
       "      <td>20801</td>\n",
       "      <td>C. Ronaldo dos Santos Aveiro</td>\n",
       "      <td>Portugal</td>\n",
       "      <td>35</td>\n",
       "      <td>92</td>\n",
       "      <td>92</td>\n",
       "      <td>Juventus</td>\n",
       "      <td>2018 - 2022</td>\n",
       "      <td>LW ST</td>\n",
       "      <td>187</td>\n",
       "      <td>83</td>\n",
       "      <td>Right</td>\n",
       "      <td>92</td>\n",
       "      <td>ST</td>\n",
       "      <td>2018-07-10</td>\n",
       "      <td>0</td>\n",
       "      <td>63000000</td>\n",
       "      <td>220000</td>\n",
       "      <td>437</td>\n",
       "      <td>84</td>\n",
       "      <td>95</td>\n",
       "      <td>90</td>\n",
       "      <td>82</td>\n",
       "      <td>86</td>\n",
       "      <td>414</td>\n",
       "      <td>88</td>\n",
       "      <td>81</td>\n",
       "      <td>76</td>\n",
       "      <td>77</td>\n",
       "      <td>92</td>\n",
       "      <td>431</td>\n",
       "      <td>87</td>\n",
       "      <td>91</td>\n",
       "      <td>87</td>\n",
       "      <td>95</td>\n",
       "      <td>71</td>\n",
       "      <td>444</td>\n",
       "      <td>94</td>\n",
       "      <td>95</td>\n",
       "      <td>84</td>\n",
       "      <td>78</td>\n",
       "      <td>93</td>\n",
       "      <td>353</td>\n",
       "      <td>63</td>\n",
       "      <td>29</td>\n",
       "      <td>95</td>\n",
       "      <td>82</td>\n",
       "      <td>84</td>\n",
       "      <td>95</td>\n",
       "      <td>84</td>\n",
       "      <td>28</td>\n",
       "      <td>32</td>\n",
       "      <td>24</td>\n",
       "      <td>58</td>\n",
       "      <td>7</td>\n",
       "      <td>11</td>\n",
       "      <td>15</td>\n",
       "      <td>14</td>\n",
       "      <td>11</td>\n",
       "      <td>2221</td>\n",
       "      <td>464</td>\n",
       "      <td>4</td>\n",
       "      <td>5</td>\n",
       "      <td>High</td>\n",
       "      <td>Low</td>\n",
       "      <td>5</td>\n",
       "      <td>89</td>\n",
       "      <td>93</td>\n",
       "      <td>81</td>\n",
       "      <td>89</td>\n",
       "      <td>35</td>\n",
       "      <td>77</td>\n",
       "      <td>562</td>\n",
       "    </tr>\n",
       "    <tr>\n",
       "      <th>2</th>\n",
       "      <td>200389</td>\n",
       "      <td>Jan Oblak</td>\n",
       "      <td>Slovenia</td>\n",
       "      <td>27</td>\n",
       "      <td>91</td>\n",
       "      <td>93</td>\n",
       "      <td>Atlético Madrid</td>\n",
       "      <td>2014 - 2023</td>\n",
       "      <td>GK</td>\n",
       "      <td>188</td>\n",
       "      <td>87</td>\n",
       "      <td>Right</td>\n",
       "      <td>91</td>\n",
       "      <td>GK</td>\n",
       "      <td>2014-07-16</td>\n",
       "      <td>0</td>\n",
       "      <td>120000000</td>\n",
       "      <td>125000</td>\n",
       "      <td>95</td>\n",
       "      <td>13</td>\n",
       "      <td>11</td>\n",
       "      <td>15</td>\n",
       "      <td>43</td>\n",
       "      <td>13</td>\n",
       "      <td>109</td>\n",
       "      <td>12</td>\n",
       "      <td>13</td>\n",
       "      <td>14</td>\n",
       "      <td>40</td>\n",
       "      <td>30</td>\n",
       "      <td>307</td>\n",
       "      <td>43</td>\n",
       "      <td>60</td>\n",
       "      <td>67</td>\n",
       "      <td>88</td>\n",
       "      <td>49</td>\n",
       "      <td>268</td>\n",
       "      <td>59</td>\n",
       "      <td>78</td>\n",
       "      <td>41</td>\n",
       "      <td>78</td>\n",
       "      <td>12</td>\n",
       "      <td>140</td>\n",
       "      <td>34</td>\n",
       "      <td>19</td>\n",
       "      <td>11</td>\n",
       "      <td>65</td>\n",
       "      <td>11</td>\n",
       "      <td>68</td>\n",
       "      <td>57</td>\n",
       "      <td>27</td>\n",
       "      <td>12</td>\n",
       "      <td>18</td>\n",
       "      <td>437</td>\n",
       "      <td>87</td>\n",
       "      <td>92</td>\n",
       "      <td>78</td>\n",
       "      <td>90</td>\n",
       "      <td>90</td>\n",
       "      <td>1413</td>\n",
       "      <td>489</td>\n",
       "      <td>3</td>\n",
       "      <td>1</td>\n",
       "      <td>Medium</td>\n",
       "      <td>Medium</td>\n",
       "      <td>3</td>\n",
       "      <td>87</td>\n",
       "      <td>92</td>\n",
       "      <td>78</td>\n",
       "      <td>90</td>\n",
       "      <td>52</td>\n",
       "      <td>90</td>\n",
       "      <td>150</td>\n",
       "    </tr>\n",
       "    <tr>\n",
       "      <th>3</th>\n",
       "      <td>192985</td>\n",
       "      <td>Kevin De Bruyne</td>\n",
       "      <td>Belgium</td>\n",
       "      <td>29</td>\n",
       "      <td>91</td>\n",
       "      <td>91</td>\n",
       "      <td>Manchester City</td>\n",
       "      <td>2015 - 2023</td>\n",
       "      <td>CAM CM</td>\n",
       "      <td>181</td>\n",
       "      <td>70</td>\n",
       "      <td>Right</td>\n",
       "      <td>91</td>\n",
       "      <td>CAM</td>\n",
       "      <td>2015-08-30</td>\n",
       "      <td>0</td>\n",
       "      <td>129000000</td>\n",
       "      <td>370000</td>\n",
       "      <td>407</td>\n",
       "      <td>94</td>\n",
       "      <td>82</td>\n",
       "      <td>55</td>\n",
       "      <td>94</td>\n",
       "      <td>82</td>\n",
       "      <td>441</td>\n",
       "      <td>88</td>\n",
       "      <td>85</td>\n",
       "      <td>83</td>\n",
       "      <td>93</td>\n",
       "      <td>92</td>\n",
       "      <td>398</td>\n",
       "      <td>77</td>\n",
       "      <td>76</td>\n",
       "      <td>78</td>\n",
       "      <td>91</td>\n",
       "      <td>76</td>\n",
       "      <td>408</td>\n",
       "      <td>91</td>\n",
       "      <td>63</td>\n",
       "      <td>89</td>\n",
       "      <td>74</td>\n",
       "      <td>91</td>\n",
       "      <td>408</td>\n",
       "      <td>76</td>\n",
       "      <td>66</td>\n",
       "      <td>88</td>\n",
       "      <td>94</td>\n",
       "      <td>84</td>\n",
       "      <td>91</td>\n",
       "      <td>186</td>\n",
       "      <td>68</td>\n",
       "      <td>65</td>\n",
       "      <td>53</td>\n",
       "      <td>56</td>\n",
       "      <td>15</td>\n",
       "      <td>13</td>\n",
       "      <td>5</td>\n",
       "      <td>10</td>\n",
       "      <td>13</td>\n",
       "      <td>2304</td>\n",
       "      <td>485</td>\n",
       "      <td>5</td>\n",
       "      <td>4</td>\n",
       "      <td>High</td>\n",
       "      <td>High</td>\n",
       "      <td>4</td>\n",
       "      <td>76</td>\n",
       "      <td>86</td>\n",
       "      <td>93</td>\n",
       "      <td>88</td>\n",
       "      <td>64</td>\n",
       "      <td>78</td>\n",
       "      <td>207</td>\n",
       "    </tr>\n",
       "    <tr>\n",
       "      <th>4</th>\n",
       "      <td>190871</td>\n",
       "      <td>Neymar da Silva Santos Jr.</td>\n",
       "      <td>Brazil</td>\n",
       "      <td>28</td>\n",
       "      <td>91</td>\n",
       "      <td>91</td>\n",
       "      <td>Paris Saint-Germain</td>\n",
       "      <td>2017 - 2022</td>\n",
       "      <td>CAM LW</td>\n",
       "      <td>175</td>\n",
       "      <td>68</td>\n",
       "      <td>Right</td>\n",
       "      <td>91</td>\n",
       "      <td>LW</td>\n",
       "      <td>2017-08-03</td>\n",
       "      <td>0</td>\n",
       "      <td>132000000</td>\n",
       "      <td>270000</td>\n",
       "      <td>408</td>\n",
       "      <td>85</td>\n",
       "      <td>87</td>\n",
       "      <td>62</td>\n",
       "      <td>87</td>\n",
       "      <td>87</td>\n",
       "      <td>448</td>\n",
       "      <td>95</td>\n",
       "      <td>88</td>\n",
       "      <td>89</td>\n",
       "      <td>81</td>\n",
       "      <td>95</td>\n",
       "      <td>453</td>\n",
       "      <td>94</td>\n",
       "      <td>89</td>\n",
       "      <td>96</td>\n",
       "      <td>91</td>\n",
       "      <td>83</td>\n",
       "      <td>357</td>\n",
       "      <td>80</td>\n",
       "      <td>62</td>\n",
       "      <td>81</td>\n",
       "      <td>50</td>\n",
       "      <td>84</td>\n",
       "      <td>356</td>\n",
       "      <td>51</td>\n",
       "      <td>36</td>\n",
       "      <td>87</td>\n",
       "      <td>90</td>\n",
       "      <td>92</td>\n",
       "      <td>93</td>\n",
       "      <td>94</td>\n",
       "      <td>35</td>\n",
       "      <td>30</td>\n",
       "      <td>29</td>\n",
       "      <td>59</td>\n",
       "      <td>9</td>\n",
       "      <td>9</td>\n",
       "      <td>15</td>\n",
       "      <td>15</td>\n",
       "      <td>11</td>\n",
       "      <td>2175</td>\n",
       "      <td>451</td>\n",
       "      <td>5</td>\n",
       "      <td>5</td>\n",
       "      <td>High</td>\n",
       "      <td>Medium</td>\n",
       "      <td>5</td>\n",
       "      <td>91</td>\n",
       "      <td>85</td>\n",
       "      <td>86</td>\n",
       "      <td>94</td>\n",
       "      <td>36</td>\n",
       "      <td>59</td>\n",
       "      <td>595</td>\n",
       "    </tr>\n",
       "  </tbody>\n",
       "</table>\n",
       "</div>"
      ],
      "text/plain": [
       "       ID                          Name Nationality  Age  ↓OVA  POT  \\\n",
       "0  158023                  Lionel Messi   Argentina   33    93   93   \n",
       "1   20801  C. Ronaldo dos Santos Aveiro    Portugal   35    92   92   \n",
       "2  200389                     Jan Oblak    Slovenia   27    91   93   \n",
       "3  192985               Kevin De Bruyne     Belgium   29    91   91   \n",
       "4  190871    Neymar da Silva Santos Jr.      Brazil   28    91   91   \n",
       "\n",
       "                  Club     Contract Positions  Height  Weight Preferred Foot  \\\n",
       "0         FC Barcelona  2004 - 2021  CF RW ST     170      72           Left   \n",
       "1             Juventus  2018 - 2022     LW ST     187      83          Right   \n",
       "2      Atlético Madrid  2014 - 2023        GK     188      87          Right   \n",
       "3      Manchester City  2015 - 2023    CAM CM     181      70          Right   \n",
       "4  Paris Saint-Germain  2017 - 2022    CAM LW     175      68          Right   \n",
       "\n",
       "   BOV Best Position      Joined  On Loan      Value    Wage  Attacking  \\\n",
       "0   93            RW  2004-07-01        0  103500000  560000        429   \n",
       "1   92            ST  2018-07-10        0   63000000  220000        437   \n",
       "2   91            GK  2014-07-16        0  120000000  125000         95   \n",
       "3   91           CAM  2015-08-30        0  129000000  370000        407   \n",
       "4   91            LW  2017-08-03        0  132000000  270000        408   \n",
       "\n",
       "   Crossing  Finishing  Heading Accuracy  Short Passing  Volleys  Skill  \\\n",
       "0        85         95                70             91       88    470   \n",
       "1        84         95                90             82       86    414   \n",
       "2        13         11                15             43       13    109   \n",
       "3        94         82                55             94       82    441   \n",
       "4        85         87                62             87       87    448   \n",
       "\n",
       "   Dribbling  Curve  FK Accuracy  Long Passing  Ball Control  Movement  \\\n",
       "0         96     93           94            91            96       451   \n",
       "1         88     81           76            77            92       431   \n",
       "2         12     13           14            40            30       307   \n",
       "3         88     85           83            93            92       398   \n",
       "4         95     88           89            81            95       453   \n",
       "\n",
       "   Acceleration  Sprint Speed  Agility  Reactions  Balance  Power  Shot Power  \\\n",
       "0            91            80       91         94       95    389          86   \n",
       "1            87            91       87         95       71    444          94   \n",
       "2            43            60       67         88       49    268          59   \n",
       "3            77            76       78         91       76    408          91   \n",
       "4            94            89       96         91       83    357          80   \n",
       "\n",
       "   Jumping  Stamina  Strength  Long Shots  Mentality  Aggression  \\\n",
       "0       68       72        69          94        347          44   \n",
       "1       95       84        78          93        353          63   \n",
       "2       78       41        78          12        140          34   \n",
       "3       63       89        74          91        408          76   \n",
       "4       62       81        50          84        356          51   \n",
       "\n",
       "   Interceptions  Positioning  Vision  Penalties  Composure  Defending  \\\n",
       "0             40           93      95         75         96         91   \n",
       "1             29           95      82         84         95         84   \n",
       "2             19           11      65         11         68         57   \n",
       "3             66           88      94         84         91        186   \n",
       "4             36           87      90         92         93         94   \n",
       "\n",
       "   Marking  Standing Tackle  Sliding Tackle  Goalkeeping  GK Diving  \\\n",
       "0       32               35              24           54          6   \n",
       "1       28               32              24           58          7   \n",
       "2       27               12              18          437         87   \n",
       "3       68               65              53           56         15   \n",
       "4       35               30              29           59          9   \n",
       "\n",
       "   GK Handling  GK Kicking  GK Positioning  GK Reflexes  Total Stats  \\\n",
       "0           11          15              14            8         2231   \n",
       "1           11          15              14           11         2221   \n",
       "2           92          78              90           90         1413   \n",
       "3           13           5              10           13         2304   \n",
       "4            9          15              15           11         2175   \n",
       "\n",
       "   Base Stats W/F SM     A/W     D/W IR  PAC  SHO  PAS  DRI  DEF  PHY Hits  \n",
       "0         466   4  4  Medium     Low  5   85   92   91   95   38   65  771  \n",
       "1         464   4  5    High     Low  5   89   93   81   89   35   77  562  \n",
       "2         489   3  1  Medium  Medium  3   87   92   78   90   52   90  150  \n",
       "3         485   5  4    High    High  4   76   86   93   88   64   78  207  \n",
       "4         451   5  5    High  Medium  5   91   85   86   94   36   59  595  "
      ]
     },
     "execution_count": 125,
     "metadata": {},
     "output_type": "execute_result"
    }
   ],
   "source": [
    "data.head()"
   ]
  },
  {
   "cell_type": "markdown",
   "metadata": {},
   "source": [
    "## Reordering and drop insightless features"
   ]
  },
  {
   "cell_type": "code",
   "execution_count": 119,
   "metadata": {},
   "outputs": [
    {
     "name": "stdout",
     "output_type": "stream",
     "text": [
      "['ID', 'Name', 'LongName', 'photoUrl', 'playerUrl', 'Nationality', 'Age', '↓OVA', 'POT', 'Club', 'Contract', 'Positions', 'Height', 'Weight', 'Preferred Foot', 'BOV', 'Best Position', 'Joined', 'Loan Date End', 'Value', 'Wage', 'Release Clause', 'Attacking', 'Crossing', 'Finishing', 'Heading Accuracy', 'Short Passing', 'Volleys', 'Skill', 'Dribbling', 'Curve', 'FK Accuracy', 'Long Passing', 'Ball Control', 'Movement', 'Acceleration', 'Sprint Speed', 'Agility', 'Reactions', 'Balance', 'Power', 'Shot Power', 'Jumping', 'Stamina', 'Strength', 'Long Shots', 'Mentality', 'Aggression', 'Interceptions', 'Positioning', 'Vision', 'Penalties', 'Composure', 'Defending', 'Marking', 'Standing Tackle', 'Sliding Tackle', 'Goalkeeping', 'GK Diving', 'GK Handling', 'GK Kicking', 'GK Positioning', 'GK Reflexes', 'Total Stats', 'Base Stats', 'W/F', 'SM', 'A/W', 'D/W', 'IR', 'PAC', 'SHO', 'PAS', 'DRI', 'DEF', 'PHY', 'Hits', 'On Loan']\n"
     ]
    }
   ],
   "source": [
    "cols = data.columns.tolist()\n",
    "print(cols)"
   ]
  },
  {
   "cell_type": "code",
   "execution_count": 120,
   "metadata": {},
   "outputs": [],
   "source": [
    "# Reorder the columns and drop 'Name', 'Loan Date End', 'Joined', 'photoUrl','playerUrl', 'Release Clause'\n",
    "data = data[['ID', 'LongName', 'Nationality', 'Age', 'OVA', 'POT', 'Club', \n",
    "             'Contract', 'Positions', 'Height', 'Weight', 'Preferred Foot', 'BOV', 'Best Position',\n",
    "             'Joined', 'On Loan',\n",
    "             'Value', 'Wage', 'Attacking', 'Crossing', 'Finishing', \n",
    "             'Heading Accuracy', 'Short Passing', 'Volleys', 'Skill', 'Dribbling', 'Curve', 'FK Accuracy', \n",
    "             'Long Passing', 'Ball Control', 'Movement', 'Acceleration', 'Sprint Speed', 'Agility', 'Reactions', \n",
    "             'Balance', 'Power', 'Shot Power', 'Jumping', 'Stamina', 'Strength', 'Long Shots', 'Mentality', \n",
    "             'Aggression', 'Interceptions', 'Positioning', 'Vision', 'Penalties', 'Composure', 'Defending', \n",
    "             'Marking', 'Standing Tackle', 'Sliding Tackle', 'Goalkeeping', 'GK Diving', 'GK Handling', \n",
    "             'GK Kicking', 'GK Positioning', 'GK Reflexes', 'Total Stats', 'Base Stats', 'W/F', 'SM', 'A/W', \n",
    "             'D/W', 'IR', 'PAC', 'SHO', 'PAS', 'DRI', 'DEF', 'PHY', 'Hits']]"
   ]
  },
  {
   "cell_type": "code",
   "execution_count": 133,
   "metadata": {},
   "outputs": [],
   "source": [
    "data.rename(columns={'LongName': 'Name', 'OVA': 'Overall', 'POT': 'Potential', 'BOV': 'Best Overall', 'IR':'Reputation'}, inplace=True)"
   ]
  },
  {
   "cell_type": "code",
   "execution_count": 126,
   "metadata": {},
   "outputs": [],
   "source": [
    "data.to_excel(excel_writer=\"Fifa21_Cleaned.xlsx\", sheet_name=\"Data\")"
   ]
  },
  {
   "cell_type": "code",
   "execution_count": 134,
   "metadata": {},
   "outputs": [],
   "source": [
    "data.to_csv(path_or_buf=\"Fifa21_Cleaned.csv\")"
   ]
  }
 ],
 "metadata": {
  "interpreter": {
   "hash": "5e4184c0f681abf605b1010637a110ca6c0bea413b9d81808eac9866d50b9d3f"
  },
  "kernelspec": {
   "display_name": "Python 3.10.9 ('base')",
   "language": "python",
   "name": "python3"
  },
  "language_info": {
   "codemirror_mode": {
    "name": "ipython",
    "version": 3
   },
   "file_extension": ".py",
   "mimetype": "text/x-python",
   "name": "python",
   "nbconvert_exporter": "python",
   "pygments_lexer": "ipython3",
   "version": "3.10.11"
  },
  "orig_nbformat": 4
 },
 "nbformat": 4,
 "nbformat_minor": 2
}
