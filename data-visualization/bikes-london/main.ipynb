{
 "cells": [
  {
   "cell_type": "code",
   "execution_count": 2,
   "metadata": {},
   "outputs": [],
   "source": [
    "import kaggle\n",
    "import zipfile\n",
    "import pandas as pd"
   ]
  },
  {
   "cell_type": "code",
   "execution_count": 3,
   "metadata": {},
   "outputs": [
    {
     "name": "stdout",
     "output_type": "stream",
     "text": [
      "Downloading london-bike-sharing-dataset.zip to d:\\Share\\DA\\data-analytics-projects\\data-visualization\\bikes-london\n",
      "\n"
     ]
    },
    {
     "name": "stderr",
     "output_type": "stream",
     "text": [
      "\n",
      "  0%|          | 0.00/165k [00:00<?, ?B/s]\n",
      "100%|██████████| 165k/165k [00:00<00:00, 354kB/s]\n",
      "100%|██████████| 165k/165k [00:00<00:00, 353kB/s]\n"
     ]
    }
   ],
   "source": [
    "!kaggle datasets download -d hmavrodiev/london-bike-sharing-dataset"
   ]
  },
  {
   "cell_type": "code",
   "execution_count": null,
   "metadata": {},
   "outputs": [],
   "source": [
    "# Extract zip file\n",
    "zip_file = \"london-bike-sharing-dataset.zip\"\n",
    "with zipfile.ZipFile(zipfile, 'r') as file:\n",
    "    file.extractall()"
   ]
  },
  {
   "cell_type": "code",
   "execution_count": 6,
   "metadata": {},
   "outputs": [],
   "source": [
    "# Read csv into `dataset`\n",
    "dataset_csv = \"london_merged.csv\"\n",
    "dataset = pd.read_csv(dataset_csv)"
   ]
  },
  {
   "cell_type": "code",
   "execution_count": 7,
   "metadata": {},
   "outputs": [
    {
     "name": "stdout",
     "output_type": "stream",
     "text": [
      "<class 'pandas.core.frame.DataFrame'>\n",
      "RangeIndex: 17414 entries, 0 to 17413\n",
      "Data columns (total 10 columns):\n",
      " #   Column        Non-Null Count  Dtype  \n",
      "---  ------        --------------  -----  \n",
      " 0   timestamp     17414 non-null  object \n",
      " 1   cnt           17414 non-null  int64  \n",
      " 2   t1            17414 non-null  float64\n",
      " 3   t2            17414 non-null  float64\n",
      " 4   hum           17414 non-null  float64\n",
      " 5   wind_speed    17414 non-null  float64\n",
      " 6   weather_code  17414 non-null  float64\n",
      " 7   is_holiday    17414 non-null  float64\n",
      " 8   is_weekend    17414 non-null  float64\n",
      " 9   season        17414 non-null  float64\n",
      "dtypes: float64(8), int64(1), object(1)\n",
      "memory usage: 1.3+ MB\n"
     ]
    }
   ],
   "source": [
    "dataset.info()"
   ]
  },
  {
   "cell_type": "code",
   "execution_count": 8,
   "metadata": {},
   "outputs": [
    {
     "data": {
      "text/plain": [
       "0"
      ]
     },
     "execution_count": 8,
     "metadata": {},
     "output_type": "execute_result"
    }
   ],
   "source": [
    "# Number of duplicated records\n",
    "dataset.duplicated().sum()"
   ]
  },
  {
   "cell_type": "code",
   "execution_count": 9,
   "metadata": {},
   "outputs": [],
   "source": [
    "# Conver timestamp to datetime datatype\n",
    "dataset.timestamp = pd.to_datetime(dataset.timestamp)\n",
    "dataset['year'] = dataset.timestamp.dt.year\n",
    "\n",
    "# Convert time in hour to day periods\n",
    "def convertDayPeriod(hour):\n",
    "    period_mapping = {\n",
    "        (5, 9): 'early morning',\n",
    "        (9, 12): 'morning',\n",
    "        (12, 18): 'noon',\n",
    "        (18, 22): 'evening',\n",
    "    }\n",
    "    for period_range, period in period_mapping.items():\n",
    "        if hour >= period_range[0] and hour < period_range[1]:\n",
    "            return period\n",
    "    return 'night'\n",
    "    \n",
    "dataset['day_period'] = dataset.timestamp.dt.hour.apply(convertDayPeriod)\n",
    "\n",
    "# Extract day of week from timestamp\n",
    "dataset['day_of_week'] = dataset.timestamp.dt.day_name()"
   ]
  },
  {
   "cell_type": "code",
   "execution_count": 10,
   "metadata": {},
   "outputs": [],
   "source": [
    "# dataset.drop('timestamp', axis=1, inplace=True)"
   ]
  },
  {
   "cell_type": "code",
   "execution_count": 11,
   "metadata": {},
   "outputs": [],
   "source": [
    "# Rename specific columns\n",
    "cols_renamed_dict = {\n",
    "    'timestamp': 'time',\n",
    "    'cnt': 'count',\n",
    "    't1': 'real_temp',\n",
    "    't2': 'feel_like_temp',\n",
    "    'hum': 'humidity',\n",
    "}\n",
    "\n",
    "dataset.rename(mapper=cols_renamed_dict, axis=1, inplace=True)"
   ]
  },
  {
   "cell_type": "code",
   "execution_count": 12,
   "metadata": {},
   "outputs": [
    {
     "name": "stdout",
     "output_type": "stream",
     "text": [
      "\tweather codes\n",
      "1.0     6150\n",
      "2.0     4034\n",
      "3.0     3551\n",
      "7.0     2141\n",
      "4.0     1464\n",
      "26.0      60\n",
      "10.0      14\n",
      "Name: weather_code, dtype: int64\n",
      "\n",
      "\tseason codes\n",
      "0.0    4394\n",
      "1.0    4387\n",
      "3.0    4330\n",
      "2.0    4303\n",
      "Name: season, dtype: int64\n"
     ]
    }
   ],
   "source": [
    "print(f\"\\tweather codes\\n{dataset.weather_code.value_counts()}\\n\")\n",
    "print(f\"\\tseason codes\\n{dataset.season.value_counts()}\")"
   ]
  },
  {
   "cell_type": "code",
   "execution_count": 13,
   "metadata": {},
   "outputs": [],
   "source": [
    "# Map qualitative variables to their corresponding name\n",
    "\n",
    "weather_val_dict = {\n",
    "    1.0: 'clear',\n",
    "    2.0: 'scattered cloud',\n",
    "    3.0: 'broken cloud',\n",
    "    4.0: 'cloudy',\n",
    "    7.0: 'rain',\n",
    "    10.0: 'rain with thunderstorm',\n",
    "    26.0: 'snowfall'\n",
    "}\n",
    "\n",
    "season_val_dict = {\n",
    "    0.0: 'spring',\n",
    "    1.0: 'summer',\n",
    "    2.0: 'fall',\n",
    "    3.0: 'winter'\n",
    "}\n",
    "\n",
    "dataset.weather_code = dataset.weather_code.map(weather_val_dict)\n",
    "dataset.season = dataset.season.map(season_val_dict)"
   ]
  },
  {
   "cell_type": "code",
   "execution_count": 14,
   "metadata": {},
   "outputs": [],
   "source": [
    "# Convert humidity (current has percentage unit) to exact value \n",
    "dataset.humidity = dataset.humidity / 100"
   ]
  },
  {
   "cell_type": "code",
   "execution_count": 15,
   "metadata": {},
   "outputs": [],
   "source": [
    "# Reorder columns\n",
    "dataset = dataset[['year', 'season', 'day_of_week', 'day_period', 'count', 'real_temp', 'feel_like_temp', \n",
    "                   'humidity', 'wind_speed', 'weather_code', 'is_holiday', 'is_weekend', 'time']]"
   ]
  },
  {
   "cell_type": "code",
   "execution_count": 16,
   "metadata": {},
   "outputs": [
    {
     "data": {
      "text/html": [
       "<div>\n",
       "<style scoped>\n",
       "    .dataframe tbody tr th:only-of-type {\n",
       "        vertical-align: middle;\n",
       "    }\n",
       "\n",
       "    .dataframe tbody tr th {\n",
       "        vertical-align: top;\n",
       "    }\n",
       "\n",
       "    .dataframe thead th {\n",
       "        text-align: right;\n",
       "    }\n",
       "</style>\n",
       "<table border=\"1\" class=\"dataframe\">\n",
       "  <thead>\n",
       "    <tr style=\"text-align: right;\">\n",
       "      <th></th>\n",
       "      <th>year</th>\n",
       "      <th>season</th>\n",
       "      <th>day_of_week</th>\n",
       "      <th>day_period</th>\n",
       "      <th>count</th>\n",
       "      <th>real_temp</th>\n",
       "      <th>feel_like_temp</th>\n",
       "      <th>humidity</th>\n",
       "      <th>wind_speed</th>\n",
       "      <th>weather_code</th>\n",
       "      <th>is_holiday</th>\n",
       "      <th>is_weekend</th>\n",
       "      <th>time</th>\n",
       "    </tr>\n",
       "  </thead>\n",
       "  <tbody>\n",
       "    <tr>\n",
       "      <th>0</th>\n",
       "      <td>2015</td>\n",
       "      <td>winter</td>\n",
       "      <td>Sunday</td>\n",
       "      <td>night</td>\n",
       "      <td>182</td>\n",
       "      <td>3.0</td>\n",
       "      <td>2.0</td>\n",
       "      <td>0.930</td>\n",
       "      <td>6.0</td>\n",
       "      <td>broken cloud</td>\n",
       "      <td>0.0</td>\n",
       "      <td>1.0</td>\n",
       "      <td>2015-01-04 00:00:00</td>\n",
       "    </tr>\n",
       "    <tr>\n",
       "      <th>1</th>\n",
       "      <td>2015</td>\n",
       "      <td>winter</td>\n",
       "      <td>Sunday</td>\n",
       "      <td>night</td>\n",
       "      <td>138</td>\n",
       "      <td>3.0</td>\n",
       "      <td>2.5</td>\n",
       "      <td>0.930</td>\n",
       "      <td>5.0</td>\n",
       "      <td>clear</td>\n",
       "      <td>0.0</td>\n",
       "      <td>1.0</td>\n",
       "      <td>2015-01-04 01:00:00</td>\n",
       "    </tr>\n",
       "    <tr>\n",
       "      <th>2</th>\n",
       "      <td>2015</td>\n",
       "      <td>winter</td>\n",
       "      <td>Sunday</td>\n",
       "      <td>night</td>\n",
       "      <td>134</td>\n",
       "      <td>2.5</td>\n",
       "      <td>2.5</td>\n",
       "      <td>0.965</td>\n",
       "      <td>0.0</td>\n",
       "      <td>clear</td>\n",
       "      <td>0.0</td>\n",
       "      <td>1.0</td>\n",
       "      <td>2015-01-04 02:00:00</td>\n",
       "    </tr>\n",
       "    <tr>\n",
       "      <th>3</th>\n",
       "      <td>2015</td>\n",
       "      <td>winter</td>\n",
       "      <td>Sunday</td>\n",
       "      <td>night</td>\n",
       "      <td>72</td>\n",
       "      <td>2.0</td>\n",
       "      <td>2.0</td>\n",
       "      <td>1.000</td>\n",
       "      <td>0.0</td>\n",
       "      <td>clear</td>\n",
       "      <td>0.0</td>\n",
       "      <td>1.0</td>\n",
       "      <td>2015-01-04 03:00:00</td>\n",
       "    </tr>\n",
       "    <tr>\n",
       "      <th>4</th>\n",
       "      <td>2015</td>\n",
       "      <td>winter</td>\n",
       "      <td>Sunday</td>\n",
       "      <td>night</td>\n",
       "      <td>47</td>\n",
       "      <td>2.0</td>\n",
       "      <td>0.0</td>\n",
       "      <td>0.930</td>\n",
       "      <td>6.5</td>\n",
       "      <td>clear</td>\n",
       "      <td>0.0</td>\n",
       "      <td>1.0</td>\n",
       "      <td>2015-01-04 04:00:00</td>\n",
       "    </tr>\n",
       "    <tr>\n",
       "      <th>...</th>\n",
       "      <td>...</td>\n",
       "      <td>...</td>\n",
       "      <td>...</td>\n",
       "      <td>...</td>\n",
       "      <td>...</td>\n",
       "      <td>...</td>\n",
       "      <td>...</td>\n",
       "      <td>...</td>\n",
       "      <td>...</td>\n",
       "      <td>...</td>\n",
       "      <td>...</td>\n",
       "      <td>...</td>\n",
       "      <td>...</td>\n",
       "    </tr>\n",
       "    <tr>\n",
       "      <th>17409</th>\n",
       "      <td>2017</td>\n",
       "      <td>winter</td>\n",
       "      <td>Tuesday</td>\n",
       "      <td>evening</td>\n",
       "      <td>1042</td>\n",
       "      <td>5.0</td>\n",
       "      <td>1.0</td>\n",
       "      <td>0.810</td>\n",
       "      <td>19.0</td>\n",
       "      <td>broken cloud</td>\n",
       "      <td>0.0</td>\n",
       "      <td>0.0</td>\n",
       "      <td>2017-01-03 19:00:00</td>\n",
       "    </tr>\n",
       "    <tr>\n",
       "      <th>17410</th>\n",
       "      <td>2017</td>\n",
       "      <td>winter</td>\n",
       "      <td>Tuesday</td>\n",
       "      <td>evening</td>\n",
       "      <td>541</td>\n",
       "      <td>5.0</td>\n",
       "      <td>1.0</td>\n",
       "      <td>0.810</td>\n",
       "      <td>21.0</td>\n",
       "      <td>cloudy</td>\n",
       "      <td>0.0</td>\n",
       "      <td>0.0</td>\n",
       "      <td>2017-01-03 20:00:00</td>\n",
       "    </tr>\n",
       "    <tr>\n",
       "      <th>17411</th>\n",
       "      <td>2017</td>\n",
       "      <td>winter</td>\n",
       "      <td>Tuesday</td>\n",
       "      <td>evening</td>\n",
       "      <td>337</td>\n",
       "      <td>5.5</td>\n",
       "      <td>1.5</td>\n",
       "      <td>0.785</td>\n",
       "      <td>24.0</td>\n",
       "      <td>cloudy</td>\n",
       "      <td>0.0</td>\n",
       "      <td>0.0</td>\n",
       "      <td>2017-01-03 21:00:00</td>\n",
       "    </tr>\n",
       "    <tr>\n",
       "      <th>17412</th>\n",
       "      <td>2017</td>\n",
       "      <td>winter</td>\n",
       "      <td>Tuesday</td>\n",
       "      <td>night</td>\n",
       "      <td>224</td>\n",
       "      <td>5.5</td>\n",
       "      <td>1.5</td>\n",
       "      <td>0.760</td>\n",
       "      <td>23.0</td>\n",
       "      <td>cloudy</td>\n",
       "      <td>0.0</td>\n",
       "      <td>0.0</td>\n",
       "      <td>2017-01-03 22:00:00</td>\n",
       "    </tr>\n",
       "    <tr>\n",
       "      <th>17413</th>\n",
       "      <td>2017</td>\n",
       "      <td>winter</td>\n",
       "      <td>Tuesday</td>\n",
       "      <td>night</td>\n",
       "      <td>139</td>\n",
       "      <td>5.0</td>\n",
       "      <td>1.0</td>\n",
       "      <td>0.760</td>\n",
       "      <td>22.0</td>\n",
       "      <td>scattered cloud</td>\n",
       "      <td>0.0</td>\n",
       "      <td>0.0</td>\n",
       "      <td>2017-01-03 23:00:00</td>\n",
       "    </tr>\n",
       "  </tbody>\n",
       "</table>\n",
       "<p>17414 rows × 13 columns</p>\n",
       "</div>"
      ],
      "text/plain": [
       "       year  season day_of_week day_period  count  real_temp  feel_like_temp  \\\n",
       "0      2015  winter      Sunday      night    182        3.0             2.0   \n",
       "1      2015  winter      Sunday      night    138        3.0             2.5   \n",
       "2      2015  winter      Sunday      night    134        2.5             2.5   \n",
       "3      2015  winter      Sunday      night     72        2.0             2.0   \n",
       "4      2015  winter      Sunday      night     47        2.0             0.0   \n",
       "...     ...     ...         ...        ...    ...        ...             ...   \n",
       "17409  2017  winter     Tuesday    evening   1042        5.0             1.0   \n",
       "17410  2017  winter     Tuesday    evening    541        5.0             1.0   \n",
       "17411  2017  winter     Tuesday    evening    337        5.5             1.5   \n",
       "17412  2017  winter     Tuesday      night    224        5.5             1.5   \n",
       "17413  2017  winter     Tuesday      night    139        5.0             1.0   \n",
       "\n",
       "       humidity  wind_speed     weather_code  is_holiday  is_weekend  \\\n",
       "0         0.930         6.0     broken cloud         0.0         1.0   \n",
       "1         0.930         5.0            clear         0.0         1.0   \n",
       "2         0.965         0.0            clear         0.0         1.0   \n",
       "3         1.000         0.0            clear         0.0         1.0   \n",
       "4         0.930         6.5            clear         0.0         1.0   \n",
       "...         ...         ...              ...         ...         ...   \n",
       "17409     0.810        19.0     broken cloud         0.0         0.0   \n",
       "17410     0.810        21.0           cloudy         0.0         0.0   \n",
       "17411     0.785        24.0           cloudy         0.0         0.0   \n",
       "17412     0.760        23.0           cloudy         0.0         0.0   \n",
       "17413     0.760        22.0  scattered cloud         0.0         0.0   \n",
       "\n",
       "                     time  \n",
       "0     2015-01-04 00:00:00  \n",
       "1     2015-01-04 01:00:00  \n",
       "2     2015-01-04 02:00:00  \n",
       "3     2015-01-04 03:00:00  \n",
       "4     2015-01-04 04:00:00  \n",
       "...                   ...  \n",
       "17409 2017-01-03 19:00:00  \n",
       "17410 2017-01-03 20:00:00  \n",
       "17411 2017-01-03 21:00:00  \n",
       "17412 2017-01-03 22:00:00  \n",
       "17413 2017-01-03 23:00:00  \n",
       "\n",
       "[17414 rows x 13 columns]"
      ]
     },
     "execution_count": 16,
     "metadata": {},
     "output_type": "execute_result"
    }
   ],
   "source": [
    "dataset"
   ]
  },
  {
   "cell_type": "code",
   "execution_count": 17,
   "metadata": {},
   "outputs": [],
   "source": [
    "dataset.to_excel(\"london_bikes_final.xlsx\", sheet_name='Data')"
   ]
  }
 ],
 "metadata": {
  "interpreter": {
   "hash": "5e4184c0f681abf605b1010637a110ca6c0bea413b9d81808eac9866d50b9d3f"
  },
  "kernelspec": {
   "display_name": "Python 3.10.9 ('base')",
   "language": "python",
   "name": "python3"
  },
  "language_info": {
   "codemirror_mode": {
    "name": "ipython",
    "version": 3
   },
   "file_extension": ".py",
   "mimetype": "text/x-python",
   "name": "python",
   "nbconvert_exporter": "python",
   "pygments_lexer": "ipython3",
   "version": "3.10.9"
  },
  "orig_nbformat": 4
 },
 "nbformat": 4,
 "nbformat_minor": 2
}
